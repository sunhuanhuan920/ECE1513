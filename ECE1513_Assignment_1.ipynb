{
  "nbformat": 4,
  "nbformat_minor": 0,
  "metadata": {
    "colab": {
      "provenance": [],
      "authorship_tag": "ABX9TyN+JJG6r+Tva9rAzZ3UWr3q",
      "include_colab_link": true
    },
    "kernelspec": {
      "name": "python3",
      "display_name": "Python 3"
    },
    "language_info": {
      "name": "python"
    }
  },
  "cells": [
    {
      "cell_type": "markdown",
      "metadata": {
        "id": "view-in-github",
        "colab_type": "text"
      },
      "source": [
        "<a href=\"https://colab.research.google.com/github/sunhuanhuan920/ECE1513/blob/main/ECE1513_Assignment_1.ipynb\" target=\"_parent\"><img src=\"https://colab.research.google.com/assets/colab-badge.svg\" alt=\"Open In Colab\"/></a>"
      ]
    },
    {
      "cell_type": "code",
      "execution_count": null,
      "metadata": {
        "colab": {
          "base_uri": "https://localhost:8080/"
        },
        "id": "0RF6maInIiU6",
        "outputId": "a8c9f332-b2f4-46fd-a952-591c8852559b"
      },
      "outputs": [
        {
          "output_type": "stream",
          "name": "stdout",
          "text": [
            "Mounted at /content/drive\n"
          ]
        }
      ],
      "source": [
        "from google.colab import drive\n",
        "drive.mount(\"/content/drive\")"
      ]
    },
    {
      "cell_type": "markdown",
      "source": [
        "**Part A**\n",
        "\n",
        "`i`. In supervised learning, labeled data is used during training process to learn mapping between inputs (features) to outputs (labels). Once trained, the model can predict label on unseen data. On contrast, no labels are provided for unsupervised learning model. Thus, instead of learning mapping between inputs and outputs, it seeks to discover underlying patterns in the data, from which we can gain a more in-depth understanding or insight about the data. In self-supervised learning, labels are derived from the input data itself instead of being provided externally. For example, we can pretend there is a part of input data that we don't know and we train the model to predict that part of the input data from any other part using the pretended unknown part of the data as label.\n",
        "\n",
        "\\\n",
        "`ii`. Data splitting is essential to evaluate the performance of a model on unseen data. By training on one subset of data and testing on another, we can assess how well the trained model performs on unseen data, as our goal is to have a model that can generalize well.\n",
        "\n",
        "\\\n",
        "`iii`. Cross validation divides the dataset into multiple subsets, and iteratively train and validate the model on these subsets. For example, train on one subset and validate the performance of the trained model on other subsets, then train on a different subset and validate on the remaining ones, so on and so forth. This provides multiple evaluation of the model's performance across different portions of data, resulting in a more comprehensive performance evaluation on the model, as compared to train-test split where only a single evaluation is performed.\n",
        "\n",
        "\\\n",
        "`iv`. Confusion matrix is a way of measuring the performance of classification models. It demonstrates the performance of a classification model based on the true outputs and the predicted outputs. It has the following format\n",
        "\n",
        "|                   |   Actual Positive  |   Actual Negative   |\n",
        "|-------------------|--------------------|---------------------|\n",
        "| Predicted Positive| True Positive (TP) | False Positive (FP) |\n",
        "| Predicted Negative| False Negative (FN)| True Negative (TN)  |\n",
        "\n",
        "By using confusion matrix, we can know the correct and incorrect classifications made by the classification model, from which we can derive different perfromance metrics.\n",
        "\n",
        "\\\n",
        "`v`. Accuracy is defined as\n",
        "\\begin{equation}\n",
        "Accuracy = \\frac{TP + TN}{TP + TN + FP + FN}.\n",
        "\\end{equation}\n",
        "It measures the percentage of predictions that are correct.\n",
        "\n",
        "Sensitivity is defined as\n",
        "\\begin{equation}\n",
        "Sensitivity = \\frac{TP}{TP + FN}.\n",
        "\\end{equation}\n",
        "It measures the percentage of positive cases that were correctly identified by the classifier.\n",
        "\n",
        "Specificity is defined as\n",
        "\\begin{equation}\n",
        "Specificity = \\frac{TN}{TN + FP}\n",
        "\\end{equation}\n",
        "It measures the percentage of negatives cases that were correctly identified by the classifier.\n",
        "\n",
        "\\\n",
        "`vi`. Underfitting happens when a trained model fails to capture the general trend or pattern in the data, resulting in a oversimplified model that performs poorly on both training data and testing data. Overfitting, on the other hand, happens when a trained model captures too much information in the input data, including uncessary information such as noise. As a reulst, it fits too well to the input data and therefore cannot generalize well on data other than training data. Overfitted model will perform exceptionally well on the training data but poorly on the test data.\n",
        "\n",
        "\\\n",
        "`vii`. Balanced dataset has roughly the same number of data samples for each class. Whereas, unbalanced dataset contain data such that one or more classess may contain significantly more samples than the other classes. Using unbalanced dataset for training may result in bias classification that favors the class that contains more data samples.\n",
        "\n",
        "\\\n",
        "`viii`. Both normalization and standardization are used for data preprocessing in machine learning. Normalization scales the data so that its value fall within the range $[0, 1]$. It can be used when the model is sensitive to the magnitude of the input data or we want inputs to have uniform scales. On the other hand, standardization transforms a dataset to have a mean of 0 and a standard deviation of 1. It can be used when the model assumes data to be centered around zero. In addition, such transformation is less sensitive to the outliers in the data compared to normalization.\n",
        "\n",
        "\\\n",
        "`ix`. Neural network is a kind of machine learning algorithm with structure that resembles the structure of biological neural network of human brain. It comprises layers of interconnected nodes, with each layer processing output of last layer through linear function with weights and biases, and non-linear activation function. Error backpropagation is used to iteratively adjust the values of weights and bias to minimize prediction errors. In essence, neural networks can be considered as linear basis function model, with basis function as a nonlinear function of a linear combination of the inputs, where weights and bias in the linear combination are adjustable.\n",
        "\n",
        "\\\n",
        "`x`. Large language models are deep learning models that are trained to understand and generate human language, and perform general purpose text interaction with human. These models usually comprise more than billions of parameters and trained on vast amount of text data. Therefore, they require tremendous amount of computational resources for training and operation, and are able to exhibit remarkable linguistic prowess and store extensive knowledge once training is completed.\n",
        "\n"
      ],
      "metadata": {
        "id": "XxWNQsejKBJG"
      }
    },
    {
      "cell_type": "markdown",
      "source": [
        "**Part B**"
      ],
      "metadata": {
        "id": "g89qom1Cna62"
      }
    },
    {
      "cell_type": "code",
      "source": [
        "import pandas as pd\n",
        "from sklearn.model_selection import train_test_split\n",
        "\n",
        "def load_and_split_data(filename):\n",
        "\n",
        "    # Load the dataset\n",
        "    df = pd.read_csv(filename)\n",
        "\n",
        "    # Fill missing values with 0\n",
        "    df = df.fillna(0)\n",
        "\n",
        "    # Separte labels from dataset\n",
        "    X = df.drop(columns=['Dataset'])\n",
        "    y = df['Dataset']\n",
        "    y = y.map({1: 1, 2: 0})\n",
        "\n",
        "    # Extract feature names for future use\n",
        "    feature_names = X.columns.tolist()\n",
        "\n",
        "    # Convert gender feature to numeric value using a dictionary\n",
        "    X['Gender'] = X['Gender'].map({'Male': 1, 'Female': 0})\n",
        "\n",
        "    # Split the data\n",
        "    X_train, X_test, y_train, y_test = train_test_split(X, y, test_size=0.3, random_state=21)\n",
        "\n",
        "    # Convert to numpy arrays\n",
        "    X_train = X_train.values\n",
        "    X_test = X_test.values\n",
        "    y_train = y_train.values\n",
        "    y_test = y_test.values\n",
        "\n",
        "    return X_train, X_test, y_train, y_test, feature_names\n",
        "\n",
        "# Dataset file path\n",
        "dataset_filepath = '/content/drive/MyDrive/Colab Notebooks/ECE1513/indian_liver_patient.csv'\n",
        "\n",
        "# Data splitting and extract feature names for future use\n",
        "X_train, X_test, y_train, y_test, feature_names = load_and_split_data(dataset_filepath)"
      ],
      "metadata": {
        "id": "YJKHfnFMnc_b"
      },
      "execution_count": null,
      "outputs": []
    },
    {
      "cell_type": "markdown",
      "source": [
        "**Part C & D**"
      ],
      "metadata": {
        "id": "5FnVc3VfdI3U"
      }
    },
    {
      "cell_type": "code",
      "source": [
        "from sklearn.metrics import accuracy_score\n",
        "from sklearn.linear_model import LogisticRegression\n",
        "from sklearn.svm import SVC\n",
        "from sklearn.tree import DecisionTreeClassifier\n",
        "from sklearn.discriminant_analysis import LinearDiscriminantAnalysis\n",
        "from IPython.display import display, Markdown\n",
        "import joblib\n",
        "\n",
        "# Initialize markdown string to display table\n",
        "markdown_string = \"\"\"\n",
        "### Model Performance\n",
        "\n",
        "| Model                   | Training Accuracy | Testing Accuracy |\n",
        "|-------------------------|-------------------|------------------|\n",
        "\"\"\"\n",
        "\n",
        "# Create a dictionary of classifiers\n",
        "classifiers = {\n",
        "    'Logistic Regression': LogisticRegression(max_iter=1000),\n",
        "    'SVM': SVC(),\n",
        "    'Decision Tree': DecisionTreeClassifier(random_state=21),\n",
        "    'LDA': LinearDiscriminantAnalysis()\n",
        "}\n",
        "\n",
        "# Create a Dictionary to store trained models\n",
        "trained_models = {}\n",
        "\n",
        "# Initialize variables to track the best model and its test accuracy\n",
        "best_accuracy = 0\n",
        "best_model_name = \"\"\n",
        "best_model = None\n",
        "\n",
        "# Train and evaluate all listed classifiers\n",
        "for name, clf in classifiers.items():\n",
        "    # Training the classifier\n",
        "    clf.fit(X_train, y_train)\n",
        "\n",
        "    # Store the trained model\n",
        "    trained_models[name] = clf\n",
        "\n",
        "    # Making predictions on the training set\n",
        "    y_train_pred = clf.predict(X_train)\n",
        "\n",
        "    # Compute the training accuracy\n",
        "    accuracy_train = accuracy_score(y_train, y_train_pred)\n",
        "\n",
        "    # Making predictions on the test set\n",
        "    y_test_pred = clf.predict(X_test)\n",
        "\n",
        "    # Compute the testing accuracy\n",
        "    accuracy_test = accuracy_score(y_test, y_test_pred)\n",
        "\n",
        "    # Check if the current model has the best accuracy\n",
        "    if accuracy_test > best_accuracy:\n",
        "        best_accuracy = accuracy_test\n",
        "        best_model_name = name\n",
        "        best_model = clf\n",
        "\n",
        "    # Append the result to the markdown string\n",
        "    markdown_string += f\"| {name} | {accuracy_train:.4f} | {accuracy_test:.4f} |\\n\"\n",
        "\n",
        "# Save the best model to a file\n",
        "joblib.dump(best_model, f'/content/drive/MyDrive/Colab Notebooks/ECE1513/{best_model_name}_best_model.pkl')\n",
        "\n",
        "# Display the markdown string as a table\n",
        "display(Markdown(markdown_string))"
      ],
      "metadata": {
        "colab": {
          "base_uri": "https://localhost:8080/",
          "height": 215
        },
        "id": "tPe96GaKdLGQ",
        "outputId": "b8ee9791-a812-427d-cd1a-7d40b92fb0b2"
      },
      "execution_count": null,
      "outputs": [
        {
          "output_type": "display_data",
          "data": {
            "text/plain": [
              "<IPython.core.display.Markdown object>"
            ],
            "text/markdown": "\n### Model Performance\n\n| Model                   | Training Accuracy | Testing Accuracy |\n|-------------------------|-------------------|------------------|\n| Logistic Regression | 0.6936 | 0.7714 |\n| SVM | 0.6838 | 0.7829 |\n| Decision Tree | 1.0000 | 0.6400 |\n| LDA | 0.6936 | 0.7429 |\n"
          },
          "metadata": {}
        }
      ]
    },
    {
      "cell_type": "markdown",
      "source": [
        "**Logistic Regression:** This model applies the logistic sigmoid function to a linear function of the input, estimating the probability that a given input belongs to a particular class. The coefficients of the linear function are determined by maximum likelihood estimation, with the goal of maximizing the likelihood of observing the given set of targets.\n",
        "\n",
        "**Support Vector Machine:** This model finds the optimal hyperplane that best separates data points of different classes. It aims to maximize the margin, which is the distance between this hyperplane and the closest data points (support vectors) from each class.\n",
        "\n",
        "**Decision Tree:** At each node of the decision tree model, a decision is made by comparing one of the input features' value to a threshold parameter, directing the data flow down the branches until a leaf node, which represents the classification result, is reached. The tree is constructed with the objective of minimizing the impurity in the leaf node, facilitating that each leaf node mainly contains data samples from a single class. Common methods used to assess impurity are the information entropy and the Gini index.\n",
        "\n",
        "**Linear Discriminant Analysis:** This model separates classes in a dataset by maximize the distance between the means of different classes while minimizing the variance within each class, resulting in minimized class overlap in the transformed space.\n",
        "\n",
        "**Performance Comparison:** SVM has the highest testing accuracy of 0.7829, closely followed by Logistic Regression with 0.7714. The LDA also performs reasonably well with a testing accuracy of 0.7429. The Decision Tree, despite achieving a perfect training accuracy of 1, has the lowest testing accuracy of 0.6400.\n",
        "\n",
        "From the results, SVM appears to be the best performing models, given its highest testing accuracy. This indicates that it generalizes better on unseen data compared to other models. While both Logistic Regression and LDA generalize decently, they don't reach the performance of the SVM. This might indicate that the data is not linearly separable, and SVM with a non-linear kernel performs better in terms of capturing non-linear relationship. For Decision Tree model, the issue of overfitting is evident.\n"
      ],
      "metadata": {
        "id": "g6fRC1iXAzgY"
      }
    },
    {
      "cell_type": "code",
      "source": [
        "print(classifiers['Decision Tree'].predict(X_test))\n"
      ],
      "metadata": {
        "colab": {
          "base_uri": "https://localhost:8080/"
        },
        "id": "w1LipW7zCmYC",
        "outputId": "d11a49be-3f8e-4979-8496-566df0cadae7"
      },
      "execution_count": null,
      "outputs": [
        {
          "output_type": "stream",
          "name": "stdout",
          "text": [
            "[1 1 0 1 1 0 1 1 1 1 1 1 1 1 1 1 1 0 0 0 0 1 1 1 1 1 1 1 0 0 1 0 0 0 1 1 1\n",
            " 1 1 1 1 1 1 0 1 0 1 1 0 1 0 1 1 1 1 0 1 1 1 1 0 1 1 1 1 1 1 1 1 1 0 1 1 0\n",
            " 0 1 1 0 1 1 1 1 1 1 1 1 1 1 1 1 1 0 1 0 1 0 1 1 0 0 1 1 1 1 0 0 0 1 1 1 1\n",
            " 1 1 1 1 1 1 0 1 1 1 0 0 0 0 0 0 0 1 1 1 0 1 1 1 1 1 1 0 0 0 1 1 0 0 0 1 1\n",
            " 1 1 1 0 0 1 0 1 0 1 1 0 1 1 1 1 1 1 0 0 0 0 0 0 1 1 1]\n"
          ]
        }
      ]
    },
    {
      "cell_type": "markdown",
      "source": [
        "**Part E**"
      ],
      "metadata": {
        "id": "5mvblqIKFfx_"
      }
    },
    {
      "cell_type": "code",
      "source": [
        "import matplotlib.pyplot as plt\n",
        "from sklearn.neighbors import KNeighborsClassifier\n",
        "from sklearn.metrics import accuracy_score\n",
        "\n",
        "def select_knn_model(X_train, X_test, y_train, y_test):\n",
        "    training_accuracies = []\n",
        "    testing_accuracies = []\n",
        "    k_values = list(range(1, 21))\n",
        "\n",
        "    for k in k_values:\n",
        "        # Initialize and train the KNN classifier\n",
        "        knn = KNeighborsClassifier(n_neighbors=k)\n",
        "        knn.fit(X_train, y_train)\n",
        "\n",
        "        # Compute accuracies\n",
        "        y_train_pred = knn.predict(X_train)\n",
        "        training_accuracy = accuracy_score(y_train, y_train_pred)\n",
        "        y_test_pred = knn.predict(X_test)\n",
        "        testing_accuracy = accuracy_score(y_test, y_test_pred)\n",
        "\n",
        "        training_accuracies.append(training_accuracy)\n",
        "        testing_accuracies.append(testing_accuracy)\n",
        "\n",
        "    # Plotting the accuracies\n",
        "    plt.figure(figsize=(12, 6))\n",
        "    plt.plot(k_values, training_accuracies, label='Training Accuracy', marker='o')\n",
        "    plt.plot(k_values, testing_accuracies, label='Testing Accuracy', marker='o')\n",
        "    plt.title('Training and Testing Accuracies for Different k values')\n",
        "    plt.xlabel('k')\n",
        "    plt.ylabel('Accuracy')\n",
        "    plt.xticks(k_values)\n",
        "    plt.legend()\n",
        "    plt.grid(True)\n",
        "    plt.show()\n",
        "\n",
        "    # Get the optimal k value\n",
        "    optimal_k = k_values[testing_accuracies.index(max(testing_accuracies))]\n",
        "    print(f\"The optimal k value is {optimal_k} with testing accuracy of {max(testing_accuracies):.4f}\")\n",
        "\n",
        "    return optimal_k\n",
        "\n",
        "optimal_k = select_knn_model(X_train, X_test, y_train, y_test)\n",
        "# Train the KNN classifier using the optimal k and add it to trained_models dictionary\n",
        "knn_optimal = KNeighborsClassifier(n_neighbors=optimal_k)\n",
        "knn_optimal.fit(X_train, y_train)\n",
        "trained_models['KNN with optimal k'] = knn_optimal"
      ],
      "metadata": {
        "colab": {
          "base_uri": "https://localhost:8080/",
          "height": 581
        },
        "id": "sRfFIVtMFjIR",
        "outputId": "85932ea5-9ddb-4093-d05b-79d82ee66a86"
      },
      "execution_count": null,
      "outputs": [
        {
          "output_type": "display_data",
          "data": {
            "text/plain": [
              "<Figure size 1200x600 with 1 Axes>"
            ],
            "image/png": "[encoded data removed]"
          },
          "metadata": {}
        },
        {
          "output_type": "stream",
          "name": "stdout",
          "text": [
            "The optimal k value is 2 with testing accuracy of 0.7771\n"
          ]
        }
      ]
    },
    {
      "cell_type": "markdown",
      "source": [
        "We know that large values of k in KNN model can reduce the effect of noise, but make classification boundaries between classes blurred. On the other hand, small values of k may be more susceptible to noise, but can provide clearer and more accurate classification boundaries. In our unbalanced dataset where one class significantly outnumbers the other, a large k might favor the majority class, since a majority of the nearest neighbors might belong to the majority class. This can lead to less accurate predictions for the minority class. The optimal k value of 2 allows the model to make classification decision based on fewer samples nearby, which in turns allows the model to make predictions that are less influenced by the overwhelming presence of the majority class, drawing boundaries that might be overlooked with larger k values."
      ],
      "metadata": {
        "id": "JOSpIJ6oKbi8"
      }
    },
    {
      "cell_type": "markdown",
      "source": [
        "**Part F**\n",
        "\n",
        "In Indian liver patient dataset, majority of the data samples belong to the liver patient class, while only a minority belongs to non-liver patient class. Thus, the dataset cannot be considered as a balanced dataset.\n",
        "\n",
        "For image data, transformations, such as rotations, crops, brightness adjustments, and flips of the image, allow us to introduce minor variations to existing images and create additional data samples for the minority class. For text data, techniques like back-translation which translates a sentence from the original language to a target language and then translating it back to the original, and synonym replacement which involves substituting words in the text with their synonyms, introducing variability while retaining the overall meaning of the sentence, can enrich and balance the dataset. In addition, as discussed in **Part A** `viii`, standardization and normalization of data can also enhance the training performance for some machine learning model.\n",
        "\n",
        "Confusion matrix and other techniques that utilize values, e.g., TP, FP, TN, FN, in the confusion matrix are particularly well-suited for evaluating models trained on imbalanced datasets. In imbalanced datasets, a model might produce extremely biased predition results, for example, predicting nearly everything as the majority class to achieve high testing accuracy. In such scenarios, testing accuracy alone can be misleading as it doesn't account for the misclassification of the minority class. However, a confusion matrix provides a more complete picture of where the model is making mistakes, making it easier to identify which class is being predicted more accurately and which isn't. This is crutial as we often want to know that the model doesn't just perform well overall, but is also sensitive and accurate in detecting the underrepresented class. In addition, the derived metrics from the confusion matrix, such as precision, recall, F1-score, can be calculated for both the majority and minority classes, providing us a more comprehensive understanding of the model's performance across all classes.\n",
        "\n",
        "We can increase the number of samples in the minority class by replicating them or artificially generating synthetic samples using techniques like SMOTE (Synthetic Minority Over-sampling Technique). This process is called oversampling. Alternatively, we can reduce the number of samples in the majority class by randomly removing some of its samples. This process is called undersampling. By employing either oversampling or undersampling to balance the dataset, the resultant models can offer predictions with reduced bias, thereby improving their training performance.\n",
        "\n"
      ],
      "metadata": {
        "id": "jta4vC8kaaLF"
      }
    },
    {
      "cell_type": "markdown",
      "source": [
        "**Part G**"
      ],
      "metadata": {
        "id": "eTjpkjCzhTFp"
      }
    },
    {
      "cell_type": "code",
      "source": [
        "from sklearn.inspection import permutation_importance\n",
        "\n",
        "# Dictionary to store the top 3 features for each classifier\n",
        "top_features = {}\n",
        "\n",
        "# Compute permutation importance for each classifier\n",
        "for name, clf in trained_models.items():\n",
        "\n",
        "    # Compute permutation importance\n",
        "    result = permutation_importance(clf, X_train, y_train, n_repeats=50, random_state=21)\n",
        "\n",
        "    # Extract the indices of the top 3 features\n",
        "    top_indices = result.importances_mean.argsort()[-3:][::-1]\n",
        "\n",
        "    # Get the names of the top 3 features using their indices\n",
        "    top_feature_names = [feature_names[i] for i in top_indices]\n",
        "\n",
        "    top_features[name] = list(zip(top_feature_names, top_indices))\n",
        "\n",
        "    # print(f\"Top 3 features for {name}: {list(zip(top_feature_names, top_indices))}\")\n",
        "\n",
        "display(Markdown(\"### Top 3 Important Features for Each Classifier:\"))\n",
        "\n",
        "# Create a dataframe to display top_features\n",
        "df_top_features = pd.DataFrame(top_features)\n",
        "df_top_features.columns = [f\"{col} (Name, Index)\" for col in df_top_features.columns]\n",
        "\n",
        "# Display the dataframe\n",
        "display(df_top_features)"
      ],
      "metadata": {
        "id": "CVfWUmkUhU7o",
        "colab": {
          "base_uri": "https://localhost:8080/",
          "height": 184
        },
        "outputId": "d142d309-c204-4354-ab50-9e3279c84fa2"
      },
      "execution_count": null,
      "outputs": [
        {
          "output_type": "display_data",
          "data": {
            "text/plain": [
              "<IPython.core.display.Markdown object>"
            ],
            "text/markdown": "### Top 3 Important Features for Each Classifier:"
          },
          "metadata": {}
        },
        {
          "output_type": "display_data",
          "data": {
            "text/plain": [
              "  Logistic Regression (Name, Index)                SVM (Name, Index)  \\\n",
              "0                      (Albumin, 8)  (Albumin_and_Globulin_Ratio, 9)   \n",
              "1               (Total_Protiens, 7)                     (Albumin, 8)   \n",
              "2                          (Age, 0)              (Total_Protiens, 7)   \n",
              "\n",
              "     Decision Tree (Name, Index)      LDA (Name, Index)  \\\n",
              "0           (Total_Bilirubin, 2)           (Albumin, 8)   \n",
              "1      (Alkaline_Phosphotase, 4)    (Total_Protiens, 7)   \n",
              "2  (Alamine_Aminotransferase, 5)  (Direct_Bilirubin, 3)   \n",
              "\n",
              "  KNN with optimal k (Name, Index)  \n",
              "0        (Alkaline_Phosphotase, 4)  \n",
              "1  (Aspartate_Aminotransferase, 6)  \n",
              "2                         (Age, 0)  "
            ],
            "text/html": [
              "\n",
              "  <div id=\"df-b4a90394-5b47-4ce9-9b3c-561aef112efd\" class=\"colab-df-container\">\n",
              "    <div>\n",
              "<style scoped>\n",
              "    .dataframe tbody tr th:only-of-type {\n",
              "        vertical-align: middle;\n",
              "    }\n",
              "\n",
              "    .dataframe tbody tr th {\n",
              "        vertical-align: top;\n",
              "    }\n",
              "\n",
              "    .dataframe thead th {\n",
              "        text-align: right;\n",
              "    }\n",
              "</style>\n",
              "<table border=\"1\" class=\"dataframe\">\n",
              "  <thead>\n",
              "    <tr style=\"text-align: right;\">\n",
              "      <th></th>\n",
              "      <th>Logistic Regression (Name, Index)</th>\n",
              "      <th>SVM (Name, Index)</th>\n",
              "      <th>Decision Tree (Name, Index)</th>\n",
              "      <th>LDA (Name, Index)</th>\n",
              "      <th>KNN with optimal k (Name, Index)</th>\n",
              "    </tr>\n",
              "  </thead>\n",
              "  <tbody>\n",
              "    <tr>\n",
              "      <th>0</th>\n",
              "      <td>(Albumin, 8)</td>\n",
              "      <td>(Albumin_and_Globulin_Ratio, 9)</td>\n",
              "      <td>(Total_Bilirubin, 2)</td>\n",
              "      <td>(Albumin, 8)</td>\n",
              "      <td>(Alkaline_Phosphotase, 4)</td>\n",
              "    </tr>\n",
              "    <tr>\n",
              "      <th>1</th>\n",
              "      <td>(Total_Protiens, 7)</td>\n",
              "      <td>(Albumin, 8)</td>\n",
              "      <td>(Alkaline_Phosphotase, 4)</td>\n",
              "      <td>(Total_Protiens, 7)</td>\n",
              "      <td>(Aspartate_Aminotransferase, 6)</td>\n",
              "    </tr>\n",
              "    <tr>\n",
              "      <th>2</th>\n",
              "      <td>(Age, 0)</td>\n",
              "      <td>(Total_Protiens, 7)</td>\n",
              "      <td>(Alamine_Aminotransferase, 5)</td>\n",
              "      <td>(Direct_Bilirubin, 3)</td>\n",
              "      <td>(Age, 0)</td>\n",
              "    </tr>\n",
              "  </tbody>\n",
              "</table>\n",
              "</div>\n",
              "    <div class=\"colab-df-buttons\">\n",
              "\n",
              "  <div class=\"colab-df-container\">\n",
              "    <button class=\"colab-df-convert\" onclick=\"convertToInteractive('df-b4a90394-5b47-4ce9-9b3c-561aef112efd')\"\n",
              "            title=\"Convert this dataframe to an interactive table.\"\n",
              "            style=\"display:none;\">\n",
              "\n",
              "  <svg xmlns=\"http://www.w3.org/2000/svg\" height=\"24px\" viewBox=\"0 -960 960 960\">\n",
              "    <path d=\"M120-120v-720h720v720H120Zm60-500h600v-160H180v160Zm220 220h160v-160H400v160Zm0 220h160v-160H400v160ZM180-400h160v-160H180v160Zm440 0h160v-160H620v160ZM180-180h160v-160H180v160Zm440 0h160v-160H620v160Z\"/>\n",
              "  </svg>\n",
              "    </button>\n",
              "\n",
              "  <style>\n",
              "    .colab-df-container {\n",
              "      display:flex;\n",
              "      gap: 12px;\n",
              "    }\n",
              "\n",
              "    .colab-df-convert {\n",
              "      background-color: #E8F0FE;\n",
              "      border: none;\n",
              "      border-radius: 50%;\n",
              "      cursor: pointer;\n",
              "      display: none;\n",
              "      fill: #1967D2;\n",
              "      height: 32px;\n",
              "      padding: 0 0 0 0;\n",
              "      width: 32px;\n",
              "    }\n",
              "\n",
              "    .colab-df-convert:hover {\n",
              "      background-color: #E2EBFA;\n",
              "      box-shadow: 0px 1px 2px rgba(60, 64, 67, 0.3), 0px 1px 3px 1px rgba(60, 64, 67, 0.15);\n",
              "      fill: #174EA6;\n",
              "    }\n",
              "\n",
              "    .colab-df-buttons div {\n",
              "      margin-bottom: 4px;\n",
              "    }\n",
              "\n",
              "    [theme=dark] .colab-df-convert {\n",
              "      background-color: #3B4455;\n",
              "      fill: #D2E3FC;\n",
              "    }\n",
              "\n",
              "    [theme=dark] .colab-df-convert:hover {\n",
              "      background-color: #434B5C;\n",
              "      box-shadow: 0px 1px 3px 1px rgba(0, 0, 0, 0.15);\n",
              "      filter: drop-shadow(0px 1px 2px rgba(0, 0, 0, 0.3));\n",
              "      fill: #FFFFFF;\n",
              "    }\n",
              "  </style>\n",
              "\n",
              "    <script>\n",
              "      const buttonEl =\n",
              "        document.querySelector('#df-b4a90394-5b47-4ce9-9b3c-561aef112efd button.colab-df-convert');\n",
              "      buttonEl.style.display =\n",
              "        google.colab.kernel.accessAllowed ? 'block' : 'none';\n",
              "\n",
              "      async function convertToInteractive(key) {\n",
              "        const element = document.querySelector('#df-b4a90394-5b47-4ce9-9b3c-561aef112efd');\n",
              "        const dataTable =\n",
              "          await google.colab.kernel.invokeFunction('convertToInteractive',\n",
              "                                                    [key], {});\n",
              "        if (!dataTable) return;\n",
              "\n",
              "        const docLinkHtml = 'Like what you see? Visit the ' +\n",
              "          '<a target=\"_blank\" href=https://colab.research.google.com/notebooks/data_table.ipynb>data table notebook</a>'\n",
              "          + ' to learn more about interactive tables.';\n",
              "        element.innerHTML = '';\n",
              "        dataTable['output_type'] = 'display_data';\n",
              "        await google.colab.output.renderOutput(dataTable, element);\n",
              "        const docLink = document.createElement('div');\n",
              "        docLink.innerHTML = docLinkHtml;\n",
              "        element.appendChild(docLink);\n",
              "      }\n",
              "    </script>\n",
              "  </div>\n",
              "\n",
              "\n",
              "<div id=\"df-3dbb508c-0b3a-414d-975c-f8f40030c7a5\">\n",
              "  <button class=\"colab-df-quickchart\" onclick=\"quickchart('df-3dbb508c-0b3a-414d-975c-f8f40030c7a5')\"\n",
              "            title=\"Suggest charts.\"\n",
              "            style=\"display:none;\">\n",
              "\n",
              "<svg xmlns=\"http://www.w3.org/2000/svg\" height=\"24px\"viewBox=\"0 0 24 24\"\n",
              "     width=\"24px\">\n",
              "    <g>\n",
              "        <path d=\"M19 3H5c-1.1 0-2 .9-2 2v14c0 1.1.9 2 2 2h14c1.1 0 2-.9 2-2V5c0-1.1-.9-2-2-2zM9 17H7v-7h2v7zm4 0h-2V7h2v10zm4 0h-2v-4h2v4z\"/>\n",
              "    </g>\n",
              "</svg>\n",
              "  </button>\n",
              "\n",
              "<style>\n",
              "  .colab-df-quickchart {\n",
              "      --bg-color: #E8F0FE;\n",
              "      --fill-color: #1967D2;\n",
              "      --hover-bg-color: #E2EBFA;\n",
              "      --hover-fill-color: #174EA6;\n",
              "      --disabled-fill-color: #AAA;\n",
              "      --disabled-bg-color: #DDD;\n",
              "  }\n",
              "\n",
              "  [theme=dark] .colab-df-quickchart {\n",
              "      --bg-color: #3B4455;\n",
              "      --fill-color: #D2E3FC;\n",
              "      --hover-bg-color: #434B5C;\n",
              "      --hover-fill-color: #FFFFFF;\n",
              "      --disabled-bg-color: #3B4455;\n",
              "      --disabled-fill-color: #666;\n",
              "  }\n",
              "\n",
              "  .colab-df-quickchart {\n",
              "    background-color: var(--bg-color);\n",
              "    border: none;\n",
              "    border-radius: 50%;\n",
              "    cursor: pointer;\n",
              "    display: none;\n",
              "    fill: var(--fill-color);\n",
              "    height: 32px;\n",
              "    padding: 0;\n",
              "    width: 32px;\n",
              "  }\n",
              "\n",
              "  .colab-df-quickchart:hover {\n",
              "    background-color: var(--hover-bg-color);\n",
              "    box-shadow: 0 1px 2px rgba(60, 64, 67, 0.3), 0 1px 3px 1px rgba(60, 64, 67, 0.15);\n",
              "    fill: var(--button-hover-fill-color);\n",
              "  }\n",
              "\n",
              "  .colab-df-quickchart-complete:disabled,\n",
              "  .colab-df-quickchart-complete:disabled:hover {\n",
              "    background-color: var(--disabled-bg-color);\n",
              "    fill: var(--disabled-fill-color);\n",
              "    box-shadow: none;\n",
              "  }\n",
              "\n",
              "  .colab-df-spinner {\n",
              "    border: 2px solid var(--fill-color);\n",
              "    border-color: transparent;\n",
              "    border-bottom-color: var(--fill-color);\n",
              "    animation:\n",
              "      spin 1s steps(1) infinite;\n",
              "  }\n",
              "\n",
              "  @keyframes spin {\n",
              "    0% {\n",
              "      border-color: transparent;\n",
              "      border-bottom-color: var(--fill-color);\n",
              "      border-left-color: var(--fill-color);\n",
              "    }\n",
              "    20% {\n",
              "      border-color: transparent;\n",
              "      border-left-color: var(--fill-color);\n",
              "      border-top-color: var(--fill-color);\n",
              "    }\n",
              "    30% {\n",
              "      border-color: transparent;\n",
              "      border-left-color: var(--fill-color);\n",
              "      border-top-color: var(--fill-color);\n",
              "      border-right-color: var(--fill-color);\n",
              "    }\n",
              "    40% {\n",
              "      border-color: transparent;\n",
              "      border-right-color: var(--fill-color);\n",
              "      border-top-color: var(--fill-color);\n",
              "    }\n",
              "    60% {\n",
              "      border-color: transparent;\n",
              "      border-right-color: var(--fill-color);\n",
              "    }\n",
              "    80% {\n",
              "      border-color: transparent;\n",
              "      border-right-color: var(--fill-color);\n",
              "      border-bottom-color: var(--fill-color);\n",
              "    }\n",
              "    90% {\n",
              "      border-color: transparent;\n",
              "      border-bottom-color: var(--fill-color);\n",
              "    }\n",
              "  }\n",
              "</style>\n",
              "\n",
              "  <script>\n",
              "    async function quickchart(key) {\n",
              "      const quickchartButtonEl =\n",
              "        document.querySelector('#' + key + ' button');\n",
              "      quickchartButtonEl.disabled = true;  // To prevent multiple clicks.\n",
              "      quickchartButtonEl.classList.add('colab-df-spinner');\n",
              "      try {\n",
              "        const charts = await google.colab.kernel.invokeFunction(\n",
              "            'suggestCharts', [key], {});\n",
              "      } catch (error) {\n",
              "        console.error('Error during call to suggestCharts:', error);\n",
              "      }\n",
              "      quickchartButtonEl.classList.remove('colab-df-spinner');\n",
              "      quickchartButtonEl.classList.add('colab-df-quickchart-complete');\n",
              "    }\n",
              "    (() => {\n",
              "      let quickchartButtonEl =\n",
              "        document.querySelector('#df-3dbb508c-0b3a-414d-975c-f8f40030c7a5 button');\n",
              "      quickchartButtonEl.style.display =\n",
              "        google.colab.kernel.accessAllowed ? 'block' : 'none';\n",
              "    })();\n",
              "  </script>\n",
              "</div>\n",
              "    </div>\n",
              "  </div>\n"
            ]
          },
          "metadata": {}
        }
      ]
    },
    {
      "cell_type": "markdown",
      "source": [
        "Classifiers do not agree on which features are important. The reason behind this are mainly two-fold:\n",
        "1. Different classifiers solve the classification problem differently, as they usually have different optimization objective. For instance, as discussed in **Part d**, a decision tree tends to make decisions based on single features at a time, minimizing the impurity in the leaf node. On the other hand, logistic regression determines feature importance based on the weight coefficient assigned to each feature after training. A feature with a higher absolute weight will be deemed more important. It tries to find weights that maximizes the likelihood of observing the observed data. Because of these different optimizing objectives, classifiers may prioritize features differently.\n",
        "\n",
        "2. Some classifiers can capture non-linearities better than others. For instance, decision trees and SVM with non-linear kernels can capture non-linear decision boundaries, whereas Logistic Regression and LDA are linear models that primarily focus on linear relationships. Features that contribute non-linearly might be underrated by linear models but highly rated by non-linear models."
      ],
      "metadata": {
        "id": "6rZTDqZIkouh"
      }
    }
  ]
}